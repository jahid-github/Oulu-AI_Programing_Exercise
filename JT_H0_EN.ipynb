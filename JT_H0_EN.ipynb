{
  "cells": [
    {
      "cell_type": "markdown",
      "metadata": {
        "id": "view-in-github",
        "colab_type": "text"
      },
      "source": [
        "<a href=\"https://colab.research.google.com/github/jahid-github/Oulu-AI_Programing_Exercise/blob/main/JT_H0_EN.ipynb\" target=\"_parent\"><img src=\"https://colab.research.google.com/assets/colab-badge.svg\" alt=\"Open In Colab\"/></a>"
      ]
    },
    {
      "cell_type": "markdown",
      "metadata": {
        "id": "mfbFxqW5w5VQ"
      },
      "source": [
        "# <center>521160P Introduction to Artificial Intelligence<br><br>Assignment #0<br><br>Virtual environments, Python and Jupyter Notebook<br>\n",
        "\n",
        "This assignment is for verifying that your environment is setup correctly and introducing some of the basics of working with python and Jupyter Notebook. This assignment is not returned and is not mandatory or graded part of the course.\n",
        "\n",
        "If you face problems or have questions regrading the assignments, please be in contact with the course staff through channels specified on the courses **Moodle page**."
      ]
    },
    {
      "cell_type": "markdown",
      "metadata": {
        "id": "ULe_jCSqw5VT"
      },
      "source": [
        "# Jupyter Notebook\n",
        "Jupyter Notebook is open source web applictaion which allows for writing and running code straight in the browser. Jupyter supports multiple commonly used programming languages such as Python and R and it is widely used within datascience and machine learning.\n",
        "\n",
        "On this course Python is used in all assignments.\n",
        "\n",
        "Using Jupyter Notebook\n",
        "1. **Cells**\n",
        "\n",
        "    A Notebook is made up of cells, that contain code, text, images or other elements. Cells can be run individually in any order.*\n",
        "\n",
        "2. **Cell types**\n",
        "\n",
        "    There are two types of cells: code cells and markdown cells.\n",
        "\n",
        "    Code cells: Contain code that can be run. Output of the cell is displayed directly beneath the cell.\n",
        "\n",
        "    Markdown-cells: Contains formatted text. Markdown is a markup language that allows including elements like text, headings and images in a plaintext format. Running a markdown cell displays its output in the cells place.\n",
        "\n",
        "3. **Running cells**\n",
        "\n",
        "    Run a cell: Select a cell and press Shift + Enter or click \"Run\" -button in the toolbar. This runs the selected cell and moves to the next.\n",
        "\n",
        "    Run all cells: You can run all in order by sleceting \"Run All\" from the toolbar.\n",
        "\n",
        "4. **Adding and deleting cells**\n",
        "\n",
        "    Insert Cell: You can insert a new cell by selecting \"Insert Cell Below\" or \"Insert Cell Above\" from the \"Insert\" menu.\n",
        "\n",
        "    Delete Cell: You can delete a cell by selecting the cell and pressing D twice in a row.\n",
        "\n",
        "    *These functions are not required for this course, as all cells have been created in the exercises*\n",
        "\n",
        "5. **Saving**\n",
        "\n",
        "    Saving: You can save by selecting \"File\" from the toolbar and choosing \"Save and Checkpoint\" or by pressing Ctrl + S.\n",
        "\n",
        "**(*)Be careful about cell execution order!**\n",
        "\n",
        "Although you can run cells in any order in Jupyter Notebook, it is important to keep in mind that the order in which cells are executed affects the behavior of the code. If the code inside a cell is not completely independent (i.e. it waits for another cell to initialize a variable or execute a specific piece of code), the cells must be executed in the correct order.\n",
        "\n",
        "You can see the order in which cells are executed by reading the sequence number in square brackets next to the cell.\n",
        "\n",
        "So make sure you run the cells in a logical order to ensure that the code works correctly!"
      ]
    },
    {
      "cell_type": "markdown",
      "metadata": {
        "id": "DC_Cd6B4w5VU"
      },
      "source": [
        "<br>\n",
        "<div style=\"font-weight: bold; font-style: italic; text-align:center;\">\n",
        "    This is an example of a Markdown cell\n",
        "</div>\n",
        "</br>"
      ]
    },
    {
      "cell_type": "code",
      "execution_count": null,
      "metadata": {
        "id": "GONFejaPw5VU"
      },
      "outputs": [],
      "source": [
        "text = \"This is an example of a code cell\"\n",
        "print(text)"
      ]
    },
    {
      "cell_type": "markdown",
      "metadata": {
        "id": "ZioXQUnZw5VV"
      },
      "source": [
        "# Virtual environment"
      ]
    },
    {
      "cell_type": "markdown",
      "metadata": {
        "id": "IrYXE9oww5VW"
      },
      "source": [
        "For the exercises, we recommend that you use either Google Colab or Miniconda. Virtual environments make managing libraries much easier, which is important to avoid potential problems. Instructions for creating a virtual environment can be found in the course's Moodle space, and there will also be a demonstration, the time of which can also be found on Moodle."
      ]
    },
    {
      "cell_type": "markdown",
      "metadata": {
        "id": "prdXSe1Ww5VW"
      },
      "source": [
        "Let's first test the installation of the packages necessary to complete the course exercise. The following code cell should not produce any output."
      ]
    },
    {
      "cell_type": "code",
      "execution_count": null,
      "metadata": {
        "id": "CudLi87ow5VW"
      },
      "outputs": [],
      "source": [
        "# Test importing all packages needed for the exercises\n",
        "import os\n",
        "import copy\n",
        "import time\n",
        "import queue\n",
        "import IPython\n",
        "import random\n",
        "import matplotlib\n",
        "import mpl_toolkits\n",
        "import numpy\n",
        "import tensorflow\n",
        "import sklearn\n",
        "import pickle\n",
        "import umap\n",
        "import imblearn\n",
        "import scipy\n",
        "import skimage"
      ]
    },
    {
      "cell_type": "markdown",
      "metadata": {
        "id": "xunccxlgw5VX"
      },
      "source": [
        "Let's next test loading data from the courses Github repository. Next codeblock should output\n",
        "<div style=\"font-size:90%; text-align:center; padding-bottom:0.5em\">\n",
        "        Downloading data into \"yourfilepath\\imgs\"\n",
        "</div>\n",
        "\n",
        "If downloading doesn't work you'll get an error message describing the problem."
      ]
    },
    {
      "cell_type": "code",
      "execution_count": null,
      "metadata": {
        "id": "3rwQz6iSw5VX"
      },
      "outputs": [],
      "source": [
        "# Test downloading data from course github repository\n",
        "link2data = 'https://raw.github.com/MattiGiamatti/intro2ai/tree/2c77b0df567620f99df89a0731d50cabba1b7fd2/JT_H1/kuvat'\n",
        "import fsspec\n",
        "dir = './imgs'\n",
        "\n",
        "if not os.path.exists(dir):\n",
        "    try:\n",
        "        print('Downloading data into {}'.format(dir))\n",
        "        fs = fsspec.filesystem(\"github\", org=\"MattiGiamatti\", repo=\"intro2ai\", ref=\"2c77b0df567620f99df89a0731d50cabba1b7fd2\")\n",
        "        fs.get('JT_H1_EN/imgs', dir, recursive=True)\n",
        "        print(\"Data downloaded successfully\")\n",
        "    except fsspec.exceptions.FSTimeoutError:\n",
        "        print('Downloading data failed due to a timeout error.')\n",
        "    except fsspec.exceptions.FSNetworkError:\n",
        "        print('Downloading data failed due to a network error.')\n",
        "    except PermissionError:\n",
        "        print('Downloading data failed due to a permission error.')\n",
        "    except FileNotFoundError:\n",
        "        print('Downloading data failed because the specified path was not found.')\n",
        "    except ValueError as e:\n",
        "        print(f'Downloading data failed due to a value error: {e}')\n",
        "    except Exception as e:\n",
        "        print(f'Downloading data failed due to an unexpected error: {e}')\n",
        "else:\n",
        "    print(\"Directory 'imgs' already exists\")"
      ]
    },
    {
      "cell_type": "markdown",
      "metadata": {
        "id": "nzviGfp-w5VX"
      },
      "source": [
        "# Python"
      ]
    },
    {
      "cell_type": "markdown",
      "metadata": {
        "id": "2jVn4orGw5VX"
      },
      "source": [
        "This course uses the Python programming language. Python is a widely used programming language, which is also widely used in postgraduate studies in artificial intelligence. Previous experience is useful, but it is possible to complete the course even if you have no previous experience.\n",
        "\n",
        "There is a lot of free and high-quality material on the internet for studying Python which is worth studying. Large language model chatbots such as ChatGPT, Claude, etc. can also produce working code, but try to write and understand your own code. This course is not 'introduction to AI prompting'.\n",
        "\n",
        "Link to Python documentation:\n",
        "https://docs.python.org/3/\n",
        "\n",
        "Below are some examples of Python code that may be useful in the exercises."
      ]
    },
    {
      "cell_type": "code",
      "execution_count": null,
      "metadata": {
        "id": "-bhI4cVcw5VX"
      },
      "outputs": [],
      "source": [
        "# Variables\n",
        "\n",
        "variable1 = 'This variable contains text' # store text in a variable\n",
        "variable2 = 42 # store an integer in a variable\n",
        "variable3 = [1, 2, 3, 4, 5] # store a list in a variable\n",
        "\n",
        "print(variable1) # print the contents of variable 1\n",
        "print(variable2) # print the contents of variable 2\n",
        "print(variable3) # print the contents of variable 3"
      ]
    },
    {
      "cell_type": "code",
      "execution_count": null,
      "metadata": {
        "id": "QbAebPJsw5VX"
      },
      "outputs": [],
      "source": [
        "# Lists\n",
        "\n",
        "list = [1, 2, 3, 4, 5] # create a list\n",
        "print(list[0]) # print the first element of the list\n",
        "print(list[-1]) # print the last element of the list\n",
        "list.pop() # remove the last element of the list\n",
        "print(list) # print the list\n",
        "list.append(6) # add an element to the list\n",
        "print(list) # print the list\n",
        "print(len(list)) # print the length of the list"
      ]
    },
    {
      "cell_type": "code",
      "execution_count": null,
      "metadata": {
        "id": "3oZx1YtMw5VX"
      },
      "outputs": [],
      "source": [
        "# Conditional Statements\n",
        "\n",
        "variable1 = 15\n",
        "list = [1, 2, 3]\n",
        "\n",
        "if variable1 > 10: # check if variable1 is greater than 10\n",
        "    print('variable1 is greater than 10')\n",
        "\n",
        "if variable1 == 12: # check if variable1 is equal to 12\n",
        "    print('variable1 equals 12')\n",
        "else:\n",
        "    print('variable1 doesnt equal 12')\n",
        "\n",
        "if 1 in list: # check if 1 is in the list\n",
        "    print('1 is in list')\n",
        "\n",
        "if 4 in list: # check if 4 is in the list\n",
        "    print('4 is in list')\n",
        "else:\n",
        "    print('4 is not in list')\n",
        "\n",
        "print(len(list) == 0) # check if the length of the list is 0\n",
        "print(len(list) > 0) # check if the length of the list is greater than 0"
      ]
    },
    {
      "cell_type": "code",
      "execution_count": null,
      "metadata": {
        "id": "5IPD4YjDw5VX"
      },
      "outputs": [],
      "source": [
        "# For and While Loops\n",
        "\n",
        "for i in range(5): # create a for loop that repeats 5 times\n",
        "    print(i) # print i\n",
        "print('\\n') # print an empty line\n",
        "\n",
        "variable1 = 0\n",
        "\n",
        "while variable1 < 5: # create a while loop that repeats until variable1 is greater than 5\n",
        "    print(variable1) # print the variable\n",
        "    variable1 += 1 # increment the variable by one\n",
        "print('\\n')\n",
        "\n",
        "variable2 = 0\n",
        "while True: # create a while loop that repeats forever\n",
        "    print(variable2)\n",
        "    variable2 += 1\n",
        "    if variable2 == 5:\n",
        "        break # break command exits the loop"
      ]
    },
    {
      "cell_type": "code",
      "execution_count": null,
      "metadata": {
        "id": "oEuIhCs1w5VX"
      },
      "outputs": [],
      "source": [
        "# Functions\n",
        "\n",
        "def print_5(): # create a function\n",
        "    print(5) # function implementation\n",
        "\n",
        "def sum(a, b): # create a function that takes two parameters\n",
        "    palaute = a + b # calculate the sum of the parameters\n",
        "    return palaute # return the sum\n",
        "\n",
        "print_5() # call the function\n",
        "print(sum(5, 10)) # call the function and print the return value"
      ]
    }
  ],
  "metadata": {
    "kernelspec": {
      "display_name": "Python 3 (ipykernel)",
      "language": "python",
      "name": "python3"
    },
    "language_info": {
      "codemirror_mode": {
        "name": "ipython",
        "version": 3
      },
      "file_extension": ".py",
      "mimetype": "text/x-python",
      "name": "python",
      "nbconvert_exporter": "python",
      "pygments_lexer": "ipython3",
      "version": "3.11.5"
    },
    "colab": {
      "provenance": [],
      "include_colab_link": true
    }
  },
  "nbformat": 4,
  "nbformat_minor": 0
}