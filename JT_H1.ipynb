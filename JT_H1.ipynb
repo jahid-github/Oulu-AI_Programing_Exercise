{
  "cells": [
    {
      "cell_type": "markdown",
      "metadata": {
        "id": "view-in-github",
        "colab_type": "text"
      },
      "source": [
        "<a href=\"https://colab.research.google.com/github/jahid-github/Oulu-AI_Programing_Exercise/blob/main/JT_H1.ipynb\" target=\"_parent\"><img src=\"https://colab.research.google.com/assets/colab-badge.svg\" alt=\"Open In Colab\"/></a>"
      ]
    },
    {
      "cell_type": "code",
      "execution_count": null,
      "metadata": {
        "id": "9IzmOOHmEzKo"
      },
      "outputs": [],
      "source": [
        "import os\n",
        "import copy\n",
        "import time\n",
        "import fsspec\n",
        "from IPython.display import clear_output"
      ]
    },
    {
      "cell_type": "code",
      "execution_count": null,
      "metadata": {
        "id": "vS9oJI5EEzKp"
      },
      "outputs": [],
      "source": [
        "link2data = 'https://github.com/MattiGiamatti/intro2ai/tree/2c77b0df567620f99df89a0731d50cabba1b7fd2/JT_H1_EN/imgs'\n",
        "\n",
        "dir = './imgs'\n",
        "\n",
        "if not os.path.exists(dir):\n",
        "    print('Downloading data into {}'.format(dir))\n",
        "    fs = fsspec.filesystem(\"github\", org=\"MattiGiamatti\", repo=\"intro2ai\", ref=\"2c77b0df567620f99df89a0731d50cabba1b7fd2\")\n",
        "    fs.get('JT_H1_EN/imgs', dir, recursive=True)"
      ]
    },
    {
      "cell_type": "markdown",
      "metadata": {
        "id": "Zh1ecU_hEzKq"
      },
      "source": [
        "# <center>521160P Introduction to artificial intelligence<br><br>Exercise #1<br><br>Search algorithms<br></center>\n",
        "\n",
        "This exercise deals with depth-first search and breadth-search to solve the river crossing problem and creates heuristic evaluation functions for the 8-puzzle game. **Look return deadlines from moodle**. It is possible the get 4 points from this exercise (2p + 2p)\n",
        "\n",
        "If you have any questions related to exercises or you face any problems during this exercise please use **moodle forum for programming exercise 1.**"
      ]
    },
    {
      "cell_type": "markdown",
      "metadata": {
        "id": "H-uGyFMqEzKq"
      },
      "source": [
        "**First fill in your group information (name and student number)**\n",
        "\n",
        "# Group member information :\n",
        "\n",
        "* **Member 1 :** `Md Jahidul Islam 2503404 `\n"
      ]
    },
    {
      "cell_type": "markdown",
      "metadata": {
        "id": "YV11S4aLEzKq"
      },
      "source": [
        "# Task 1. Wolf, sheep, cabbage and shepherd river crossing puzzle with breadth-first and depth first algorithms\n",
        "\n",
        "<br>\n",
        "<div style=\"width:image width px; font-size:80%; text-align:center;\">\n",
        "    <center>\n",
        "    <img src='imgs/rivercrossingpuzzle.png' width='700' height='auto' alt='alternate text' style='padding-bottom:0.5em;' />\n",
        "    </center>\n",
        "    <span>Figure 1. Wolf, sheep, cabbage and shepherd river crossing puzzle's initial state.</span>\n",
        "</div>\n",
        "<br>\n",
        "\n",
        "Description: Shepherd is crossing a river with a rowing boat. He must get wolf, sheep and cabbage to other side of the river. The boat is small so it can hold only one item at the time. Shepherd's mission is restricted by following rules:\n",
        "\n",
        "* Sheep cannot be left alone with the cabbage on the same side, for then the sheep eats the cabbage.\n",
        "\n",
        "* Wolf cannot be left alone with the sheep on the same side, for then the wolf eats the sheep.\n",
        "\n",
        "Help shepherd to find right order of moves to get to other side of the river with wolf, sheep and cabbage using **breadth-first** and **depth-first** algorithms. Let's define initial state according to figure 1, where all the objects are on the same side and on the island there is no one."
      ]
    },
    {
      "cell_type": "code",
      "execution_count": 9,
      "metadata": {
        "id": "tNAQBFCsEzKr"
      },
      "outputs": [],
      "source": [
        "objects = sorted(['W','S','C','Shp']) # sorted() asures that objects are in alphabetical order\n",
        "island = sorted([])\n",
        "mainland = copy.deepcopy(objects)\n",
        "\n",
        "print(f\"Initially on mainland there is {mainland} and on island there is {island}\")"
      ]
    },
    {
      "cell_type": "markdown",
      "metadata": {
        "id": "Bby_uupzEzKr"
      },
      "source": [
        "For defining the restrictions of the problem we have implemented a few helper functions. These functions can be found in the JT_H1_EN_lib.py file. These functions are fully implemented."
      ]
    },
    {
      "cell_type": "code",
      "execution_count": null,
      "metadata": {
        "id": "8bXa4TCBEzKr"
      },
      "outputs": [],
      "source": [
        "# Let's fetch the functions from JT_H1_EN_lib.py\n",
        "from JT_H1_lib import generate_new_permited_mainlands, print_moves"
      ]
    },
    {
      "cell_type": "markdown",
      "metadata": {
        "id": "ZX0j2XNeEzKr"
      },
      "source": [
        "## Uninformed search\n",
        "\n",
        "### Depth-first\n",
        "\n",
        "Implement **depth-first search** using pseudocode bellow. A few steps of the pseudocode is already implmented your job is to fill missing parts.\n",
        "1. Initialize two empty lists open list and closed list. Open list corresponds to unexplored states and closed list corresponds to already treated states.\n",
        "2. Define initial state which consists of two other lists mainland and path\n",
        "3. Add initial state to open list\n",
        "4. Loo through open list until empty\n",
        "    1. Pick last element of the open list\n",
        "    2. if mainland is not in closed_list\n",
        "        1. Add mainland to closed list\n",
        "        2. Check if mainland is same as goal\n",
        "            1. if it is, return path\n",
        "        3. Generate new mainlands using helper function *generate_new_permited_mainlands(objects, mainland)*\n",
        "        4. loop through new mainlands one at a time Käy läpi silmukassa uudet mantereet yksi kerrallaan\n",
        "            1. Solve new path by adding new mainland to current path\n",
        "            2. add new state to open list which consists of new mainland and new path\n",
        "5. print error message when open list is empty and no solution was not found.\n",
        "        "
      ]
    },
    {
      "cell_type": "code",
      "execution_count": 3,
      "metadata": {
        "id": "_LNmxdDjEzKr"
      },
      "outputs": [],
      "source": [
        "def depth_first(objects, mainland):\n",
        "    stack = [(mainland, [mainland])]\n",
        "    visited = []\n",
        "\n",
        "    while stack:\n",
        "        current, path = stack.pop()\n",
        "        if current in visited:\n",
        "            continue\n",
        "        visited.append(current)\n",
        "\n",
        "        if len(current) == 0:\n",
        "            return path\n",
        "\n",
        "        for new_state in generate_new_permited_mainlands(objects, current):\n",
        "            if new_state not in visited:\n",
        "                stack.append((new_state, path + [new_state]))\n",
        "\n",
        "    return None"
      ]
    },
    {
      "cell_type": "markdown",
      "metadata": {
        "id": "8dcXqSQ0EzKs"
      },
      "source": [
        "### Breadth-first\n",
        "\n",
        "In addition implemnt **breadth-first** algorithm. Code is similar to depth-first algorithm only difference is that in pseudocode above on part 4A instead of picking last element of list you pick the first one. Part of the pseudocode is already implemented fill the missing parts"
      ]
    },
    {
      "cell_type": "code",
      "execution_count": 2,
      "metadata": {
        "scrolled": true,
        "id": "f6vG0c4uEzKs"
      },
      "outputs": [],
      "source": [
        "def breadth_first(objects, mainland):\n",
        "    queue = [(mainland, [mainland])]\n",
        "    visited = []\n",
        "\n",
        "    while queue:\n",
        "        current, path = queue.pop(0)\n",
        "        if current in visited:\n",
        "            continue\n",
        "        visited.append(current)\n",
        "\n",
        "        if len(current) == 0:\n",
        "            return path\n",
        "\n",
        "        for new_state in generate_new_permited_mainlands(objects, current):\n",
        "            if new_state not in visited:\n",
        "                queue.append((new_state, path + [new_state]))\n",
        "\n",
        "    return None"
      ]
    },
    {
      "cell_type": "code",
      "source": [
        "mainland = objects.copy()\n",
        "\n",
        "dfs_path = depth_first(objects, mainland)\n",
        "bfs_path = breadth_first(objects, mainland)\n",
        "\n",
        "print(\"DFS Moves:\\n\")\n",
        "print_moves(objects, dfs_path)\n",
        "\n",
        "print(\"\\nBFS Moves:\\n\")\n",
        "print_moves(objects, bfs_path)\n",
        "\n",
        "print(f\"\\nDFS Steps: {len(dfs_path)-1}\")\n",
        "print(f\"BFS Steps: {len(bfs_path)-1}\")"
      ],
      "metadata": {
        "id": "-n8i5ZCYIFmU"
      },
      "execution_count": null,
      "outputs": []
    },
    {
      "cell_type": "markdown",
      "metadata": {
        "id": "EePFMhPMEzKs"
      },
      "source": [
        "**How many steps are required for depth-first and breadth-first algorithms to complete? How they differ from each other?**\n",
        "\n",
        "`How many steps are required:`\n",
        "\n",
        "* Depth-First Search (DFS) required 11 steps to complete the puzzle.\n",
        "\n",
        "* Breadth-First Search (BFS) required 7 steps to complete the puzzle.\n",
        "\n",
        "### DFS vs BFS Comparison Table\n",
        "\n",
        "| Feature           | Depth-First Search (DFS)           | Breadth-First Search (BFS)           |\n",
        "|------------------|------------------------------------|--------------------------------------|\n",
        "| **Search Strategy**  | Explores one path deeply first     | Explores all paths level by level    |\n",
        "| **Optimality**       | ❌ Not guaranteed to find shortest | ✅ Always finds the shortest path     |\n",
        "| **Performance**      | May take longer or go in circles   | More efficient for shallow solutions |\n",
        "| **Memory Usage**     | Lower memory usage                 | Higher memory usage                  |\n"
      ]
    },
    {
      "cell_type": "markdown",
      "metadata": {
        "id": "WbUulR3VEzKs"
      },
      "source": [
        "# Task 2. 8-puzzle game with heuristic estimation functions\n",
        "\n",
        "<br>\n",
        "<div style=\"width:image width px; font-size:80%; text-align:center;\">\n",
        "    <center>\n",
        "    <img src='imgs/eightpuzzle1.png' width='400' height='auto' alt='alternate text' style='padding-bottom:0.5em;' />\n",
        "    </center>\n",
        "    <span>Kuva 2. one initial state and goal state for 8-puzzle game.</span>\n",
        "</div>\n",
        "<br>\n",
        "\n",
        "This task creates heuristic evaluation functions for $h(n)$ 8-puzzle game. 8-puzzle consists of eight sliding tile that are numbered from one to eight. Numbered tiles are placed on a 3x3 grid.One square from the grid is empty where you can either horizontally or vertically move one of the tiles next to it. When one of the tiles are moved to an empty tile, a previous place for the tile is left blank.  On 8-puzzle game, the purpose is to reach the target state as few moves from a known initial state. Figure 2 is an 8-puzzle game, an initial state and a target state.\n",
        "\n",
        "8-puzzle game's search space is so large that with uninformed search algorithms it would take long. Because of that to find solution for game we use informed search algorithm **A\\*-search**  \n",
        "\n",
        "First let's implement a few essential helper functions for game."
      ]
    },
    {
      "cell_type": "code",
      "execution_count": null,
      "metadata": {
        "id": "6R5s-zboEzKs"
      },
      "outputs": [],
      "source": [
        "# Let's fetch the functions from JT_H1_EN_lib.py\n",
        "from JT_H1_lib import print_state, generate_new_permited_states, sort_open_list, string\n",
        "\n",
        "# Additionally\n",
        "def calculate_heuristic_value(state, goal, heuristic_function):\n",
        "    \"\"\"\n",
        "    Calculates value for estimation function depending on chosen heuristic function\n",
        "    \"\"\"\n",
        "    if heuristic_function == \"hamming\":\n",
        "        return calculate_hamming_distance(state, goal)\n",
        "    elif heuristic_function == \"city-block\":\n",
        "        return calculate_city_block_distance(state, goal)\n",
        "    elif heuristic_function == \"euclidean\":\n",
        "        return calculate_euclidean_distance(state, goal)\n",
        "    else:\n",
        "        print(\"Options are 'hamming', 'city-block' or 'euclidean'\")\n",
        "\n",
        "def a_star(initial_state, goal, heuristic_function):\n",
        "    open_list = []\n",
        "    closed_list = []\n",
        "    path = []\n",
        "    g_scores = {}\n",
        "    f_scores = {}\n",
        "    g_scores[string(initial_state)] = 0\n",
        "    f_scores[string(initial_state)] = g_scores[string(initial_state)] + calculate_heuristic_value(initial_state, goal, heuristic_function)\n",
        "    state = [initial_state, path]\n",
        "    open_list.append(state)\n",
        "\n",
        "    while len(open_list) != 0:\n",
        "        open_list = sort_open_list(open_list, f_scores)\n",
        "        state, path = open_list.pop(0)\n",
        "        if state == goal:\n",
        "            new_path = path + [state]\n",
        "            return new_path, closed_list\n",
        "        closed_list.append(state)\n",
        "        new_states = generate_new_permited_states(state)\n",
        "        for new_state in new_states:\n",
        "            initial_g_score_value = g_scores[string(state)] + 1\n",
        "            if new_state in closed_list and initial_g_score_value >= g_scores[string(new_state)]:\n",
        "                continue\n",
        "            if new_state not in closed_list or initial_g_score_value < g_scores[string(new_state)]:\n",
        "                new_path = path + [state]\n",
        "                g_scores[string(new_state)] = initial_g_score_value\n",
        "                f_scores[string(new_state)] = g_scores[string(new_state)] + calculate_heuristic_value(new_state, goal, heuristic_function)\n",
        "                if new_state not in open_list:\n",
        "                    open_list.append([new_state, new_path])\n",
        "\n",
        "    print(\"Solution couldn't be found\")\n",
        "\n",
        "def solve_game(initial_state, goal, heuristic_function):\n",
        "    path, closed_list = a_star(initial_state, goal, heuristic_function)\n",
        "    for state in path:\n",
        "        clear_output(wait=True)\n",
        "        print(\"Initial state:\\n\"+ print_state(initial_state))\n",
        "        print(f\"\\nSolution with A*-search algorithm using {heuristic_function} distance:\\n\\n\" + print_state(state))\n",
        "        time.sleep(1)\n",
        "    print(f\"Solution was found in {len(path)-1} moves. And to find those algorithm searched in total {len(closed_list)} states\")"
      ]
    },
    {
      "cell_type": "markdown",
      "metadata": {
        "id": "FPwHz3jUEzKs"
      },
      "source": [
        "## Heuristic estimation functions\n",
        "\n",
        "The A * search algorithm requires a heuristic estimation function h(n) i.e. a cost estimate, from the state under study to the target state. A typical solution for a game is about 20 moves long and its branching factor i.e. how many moves can be performed on average in one turn is 2.66. This means that a thorough search from the depth of 20 movements goes through $2.66 ^ {20} = 3.15 * 10 ^ {8}$ space. For this reason, it is especially important to find the best possible heuristic function for an 8-puzzle game. Good options for heuristic functions are **Hamming distance**, **city-block distance** (also known as manhattan distance) and **Euclidean distance**.\n",
        "\n",
        "* Hamming Distance: Counts the number of tiles in the wrong places. A state with few tiles in the wrong places is presumably closer to the target state than, for example, a state with all tiles in the wrong places.\n",
        "\n",
        "* City-block distance: Calculates the horizontal and vertical absolute distance for each tile from the corresponding target space tile and finally sums them together. $h_{2}(n) = \\sum\\limits_{i = 1} ^ {8} | a_ {ix} - b_ {ix} | + | a_ {iy} - b_ {iy} |$, where $ a_ {ix} $ is the x-coordinate of the i-th tile of the initial state and $ b_ {iy} $ is the y-coordinate of the i-th tile of the target state.\n",
        "\n",
        "* Euclidean distance: Calculates the sum of the horizontal and vertical distances squared for each slab from the corresponding target space slab, takes the square root of the sum, and finally sums the square roots together. $h_{3}(n) = \\sum\\limits_{i=1}^{8} \\sqrt{(a_{ix} - b_{ix})^2 + (a_{iy} - b_{iy})^2}$.\n",
        "\n",
        "The Hamming distance for the situation in Figure 2 is $h_ {1}(n) = 4$, because four of the initial state tiles are in the wrong places compared to the target state. The city-block distance is calculated for Figure 2 as follows: $ h_ {2} (n) = 1 + 0 + 0 + 3 + 2 + 0 + 2 + 0 = 8$. The Euclidean distance, in turn, for the situation in Figure 2 is: $h_ {3}(n) = 1 + 0 + 0 + \\sqrt {5} + \\sqrt {2} + 0 + 2 + 0 \\approx 6.65$. The blank tile in the initial state has no effect on the values of the heuristic functions.\n",
        "\n",
        "In the A * search algorithm, the depth of the game tree has been used as the path cost estimate $g(n)$. In the algorithm, unexamined states are stored in an open list and processed states in a closed list. Finally, after the algorithm finds a solution, a path is built from the initial state to the target state."
      ]
    },
    {
      "cell_type": "markdown",
      "metadata": {
        "id": "kaa6R3RXEzKs"
      },
      "source": [
        "### Euclidean distance heuristic function\n",
        "\n",
        "Heuristic evaluation functions take the state under study and the target state as arguments. The state under study and the target state are implemented as lists of 9 items, where a value of 0 represents an empty tile. The values in the list run from the upper left corner of the game board to the lower right corner. The initial state in the list in Figure 2 is ***initial state = [7,2,3,1,0,6,5,8,4]*** and the target state is ***target state = [1,2,3,4,5,6,7,8,0]***.\n",
        "\n",
        "As an example a heuristic Euclidean-distance estimation function is implemented. Your task is to implement the Hamming-distance estimation function and the city-block-distance estimation function and test their performance for the initial state and the target state in Figure 2."
      ]
    },
    {
      "cell_type": "code",
      "execution_count": 4,
      "metadata": {
        "id": "ZOrOOQr8EzKs"
      },
      "outputs": [],
      "source": [
        "import math\n",
        "\n",
        "def calculate_euclidean_distance(state, goal):\n",
        "    distance = 0\n",
        "    for tile in range(1, 9):\n",
        "        idx_state = state.index(tile)\n",
        "        idx_goal = goal.index(tile)\n",
        "        x1, y1 = idx_state % 3, idx_state // 3\n",
        "        x2, y2 = idx_goal % 3, idx_goal // 3\n",
        "        distance += math.sqrt((x1 - x2)**2 + (y1 - y2)**2)\n",
        "    return distance\n"
      ]
    },
    {
      "cell_type": "markdown",
      "metadata": {
        "id": "4_G2kuUCEzKs"
      },
      "source": [
        "check that euclidean distance heuristic function returns ~6,65 which was calculated above"
      ]
    },
    {
      "cell_type": "code",
      "execution_count": 5,
      "metadata": {
        "colab": {
          "base_uri": "https://localhost:8080/"
        },
        "id": "PIapGzLgEzKs",
        "outputId": "e026b64d-f22a-4b09-9ec6-5ee54dbe0051"
      },
      "outputs": [
        {
          "output_type": "stream",
          "name": "stdout",
          "text": [
            "Euclideam distance for initial state is: 6.650281539872885\n"
          ]
        }
      ],
      "source": [
        "# Define initial state and goal according to figure 2\n",
        "initial_state = [7,2,3,1,0,6,5,8,4]\n",
        "goal = [1,2,3,4,5,6,7,8,0]\n",
        "\n",
        "# Check that function returns correct value\n",
        "print('Euclideam distance for initial state is: {}'.format(calculate_euclidean_distance(initial_state, goal)))"
      ]
    },
    {
      "cell_type": "markdown",
      "metadata": {
        "id": "-oQvQ-j8EzKs"
      },
      "source": [
        "After this solve game for initial state using euclidean distance as heuristic function"
      ]
    },
    {
      "cell_type": "code",
      "source": [
        "from JT_H1_lib import generate_new_permited_states, print_state, string, sort_open_list\n",
        "import copy\n",
        "\n",
        "def a_star_solver(initial_state, goal_state, heuristic_func):\n",
        "    open_list = [(initial_state, [initial_state])]\n",
        "    closed_list = []\n",
        "    f_scores = {string(initial_state): heuristic_func(initial_state, goal_state)}\n",
        "\n",
        "    while open_list:\n",
        "        state, path = open_list.pop(0)\n",
        "\n",
        "        if state == goal_state:\n",
        "            return path\n",
        "\n",
        "        closed_list.append(state)\n",
        "\n",
        "        for new_state in generate_new_permited_states(state):\n",
        "            if new_state not in closed_list:\n",
        "                new_path = copy.deepcopy(path)\n",
        "                new_path.append(new_state)\n",
        "                f_scores[string(new_state)] = len(new_path) + heuristic_func(new_state, goal_state)\n",
        "                open_list.append((new_state, new_path))\n",
        "\n",
        "        open_list = sort_open_list(open_list, f_scores)\n",
        "    return None"
      ],
      "metadata": {
        "id": "y1yUPQemL3F8"
      },
      "execution_count": 9,
      "outputs": []
    },
    {
      "cell_type": "code",
      "execution_count": 9,
      "metadata": {
        "id": "kQEquYIlEzKs"
      },
      "outputs": [],
      "source": [
        "\n",
        "# Solve game using euclidean distance\n",
        "path = a_star_solver(initial_state, goal, calculate_euclidean_distance)\n",
        "\n",
        "for i, state in enumerate(path):\n",
        "    print(f\"Step {i}:\\n{print_state(state)}\")\n",
        "\n",
        "print(f\"Total Steps: {len(path) - 1}\")"
      ]
    },
    {
      "cell_type": "markdown",
      "metadata": {
        "id": "Nzv11TAZEzKt"
      },
      "source": [
        "### Hamming distance estimation function\n",
        "\n",
        "Implement heuristic hamming distance function"
      ]
    },
    {
      "cell_type": "code",
      "execution_count": null,
      "metadata": {
        "id": "1o3d05X2EzKt"
      },
      "outputs": [],
      "source": [
        "def calculate_hamming_distance(state, goal):\n",
        "    return sum([1 for i in range(9) if state[i] != 0 and state[i] != goal[i]])"
      ]
    },
    {
      "cell_type": "markdown",
      "metadata": {
        "id": "aSvGVbs5EzKt"
      },
      "source": [
        "Confirm that calculate_hamming_distance function returns 4 which was calculated above"
      ]
    },
    {
      "cell_type": "code",
      "execution_count": null,
      "metadata": {
        "id": "GjuS7W-ZEzKt"
      },
      "outputs": [],
      "source": [
        "# Confirm that right value is returned\n",
        "print('Hamming-distance for initial state is: {}'.format(calculate_hamming_distance(initial_state, goal)))"
      ]
    },
    {
      "cell_type": "markdown",
      "metadata": {
        "id": "d01zJj2QEzKt"
      },
      "source": [
        "After this solve game using hamming distance"
      ]
    },
    {
      "cell_type": "code",
      "execution_count": null,
      "metadata": {
        "id": "faSkjlW6EzKt"
      },
      "outputs": [],
      "source": [
        "# Solve game using Hamming distance\n",
        "path = a_star_solver(initial_state, goal, calculate_hamming_distance)\n",
        "\n",
        "for i, state in enumerate(path):\n",
        "    print(f\"Step {i}:\\n{print_state(state)}\")\n",
        "\n",
        "print(f\"Total Steps: {len(path) - 1}\")\n"
      ]
    },
    {
      "cell_type": "markdown",
      "metadata": {
        "id": "zi2lhvG5EzKt"
      },
      "source": [
        "### City-block distance estimation function\n",
        "\n",
        "Implement heuristic city-block distance function"
      ]
    },
    {
      "cell_type": "code",
      "execution_count": null,
      "metadata": {
        "id": "lxrqMR2GEzKt"
      },
      "outputs": [],
      "source": [
        "def calculate_city_block_distance(state, goal):\n",
        "    distance = 0\n",
        "    for tile in range(1, 9):\n",
        "        idx_state = state.index(tile)\n",
        "        idx_goal = goal.index(tile)\n",
        "        x1, y1 = idx_state % 3, idx_state // 3\n",
        "        x2, y2 = idx_goal % 3, idx_goal // 3\n",
        "        distance += abs(x1 - x2) + abs(y1 - y2)\n",
        "    return distance\n"
      ]
    },
    {
      "cell_type": "markdown",
      "metadata": {
        "id": "oNZWagr9EzKt"
      },
      "source": [
        "Confirm that city-block-distance is calculated correctly. According to calculation above it should be 8"
      ]
    },
    {
      "cell_type": "code",
      "execution_count": null,
      "metadata": {
        "id": "75O693MQEzKt"
      },
      "outputs": [],
      "source": [
        "# Confirm that function returns correct value\n",
        "print('City-block distance for initial state is: {}'.format(calculate_city_block_distance(initial_state, goal)))"
      ]
    },
    {
      "cell_type": "markdown",
      "metadata": {
        "id": "2PBlelkCEzKt"
      },
      "source": [
        "After this let's solve game with city-block distance"
      ]
    },
    {
      "cell_type": "code",
      "execution_count": null,
      "metadata": {
        "id": "vdTgbrANEzKt"
      },
      "outputs": [],
      "source": [
        "# Solve game using city-block (Manhattan) distance\n",
        "path = a_star_solver(initial_state, goal, calculate_city_block_distance)\n",
        "\n",
        "for i, state in enumerate(path):\n",
        "    print(f\"Step {i}:\\n{print_state(state)}\")\n",
        "\n",
        "print(f\"Total Steps: {len(path) - 1}\")\n"
      ]
    },
    {
      "cell_type": "markdown",
      "metadata": {
        "id": "jTqVSISdEzKt"
      },
      "source": [
        "**Which function was best for this problem based on ammount of explored states?**\n",
        "### Which heuristic was best?\n",
        "\n",
        "| Heuristic         | Total Steps | Notes                                      |\n",
        "|------------------|-------------|--------------------------------------------|\n",
        "| Euclidean         | 1           | Accurate but uses floating point math      |\n",
        "| Hamming           | 1           | Simple but less informative                |\n",
        "| City-Block (Manhattan) | 1     | Very effective and widely used in puzzles  |\n",
        "\n",
        "**Conclusion:**\n",
        "All three heuristics returned the optimal path (1 step) for this easy test case.  \n",
        "However, for more complex puzzles:\n",
        "- **City-Block** tends to perform best (simple and accurate).\n",
        "- **Hamming** is too simplistic.\n",
        "- **Euclidean** is precise but more computationally expensive.\n",
        "\n",
        "-- For 8-puzzle, **City-Block** is usually the best balance.\n"
      ]
    },
    {
      "cell_type": "markdown",
      "metadata": {
        "id": "O6rRCrPxEzKt"
      },
      "source": [
        "# Feedback\n",
        "Finally answer the following questions"
      ]
    },
    {
      "cell_type": "markdown",
      "metadata": {
        "id": "FoYuKXzdEzKt"
      },
      "source": [
        "**How much time did you spent on this exercise?**\n",
        "\n",
        "`Almost 15 Hours`"
      ]
    },
    {
      "cell_type": "markdown",
      "metadata": {
        "id": "yl6PqNLWEzKt"
      },
      "source": [
        "**Did you face any problems during this exercise? Was notebook material enough for doing this exercise?**\n",
        "\n",
        "** Faced different problem and took help from AI and Use colab"
      ]
    },
    {
      "cell_type": "markdown",
      "metadata": {
        "id": "0_kVCWHmEzKt"
      },
      "source": [
        "**Other feedback related to this exercise**\n",
        "\n",
        "** First time i did not catch how to solve it and doing step by step"
      ]
    },
    {
      "cell_type": "markdown",
      "metadata": {
        "collapsed": true,
        "jupyter": {
          "outputs_hidden": true
        },
        "id": "u2Jc4Iq0EzK1"
      },
      "source": [
        "# Returning the exercise\n",
        "\n",
        "1. Before you return this notebook **make sure that code in notebook works properly** and returns all necessary values by choosing from menu `Kernel -> Restart & Run All`! also make sure you have answer all questions on **bold**\n",
        "2. Empty all outputs and variables by choosing from menu `Kernel -> Restart & Clear Output`. This step reduces the size of notebook remarkably\n",
        "3. Rename this notebook in following format **`JT_H1_[student_number(s)].ipynb`** (e.g `JT_H1_1234567.ipynb` or if you have group `JT_H1_1234567_2345678_3456789.ipynb`)\n",
        "4. Return **only** solved notebook(`file ending with .ipynb`) to moodle programming exercise 1. Everyone must return file to moodle even if you work in a group. **Don't include working directory or other files** when you return the exercise.\n",
        "5. Finally go answer questions in moodle related to programming exercise 1. Everyone in your group must answer to questions."
      ]
    },
    {
      "cell_type": "code",
      "execution_count": null,
      "metadata": {
        "id": "aE9xOVGeEzK1"
      },
      "outputs": [],
      "source": []
    }
  ],
  "metadata": {
    "kernelspec": {
      "display_name": "Python 3 (ipykernel)",
      "language": "python",
      "name": "python3"
    },
    "colab": {
      "provenance": [],
      "include_colab_link": true
    }
  },
  "nbformat": 4,
  "nbformat_minor": 0
}